{
	"folders": [
		{
			"path": "Fintech/MIA-VIRT-FIN-PT-08-2023-U-LOLC"
		}
	],
	"settings": {}
}