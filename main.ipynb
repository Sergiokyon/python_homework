{
 "cells": [
  {
   "cell_type": "code",
   "execution_count": 14,
   "id": "7c730789-05cb-45f6-9a0e-00a830db413d",
   "metadata": {
    "tags": []
   },
   "outputs": [
    {
     "name": "stdout",
     "output_type": "stream",
     "text": [
      "First few rows of the dataset:\n",
      "     Date  Profit/Losses\n",
      "0  Jan-10         867884\n",
      "1  Feb-10         984655\n",
      "2  Mar-10         322013\n",
      "3  Apr-10         -69417\n",
      "4  May-10         310503\n",
      "\n",
      "\n",
      "Financial Analysis\n",
      "\n",
      "\n",
      "-------------------------------------\n",
      "\n",
      "\n",
      "Total Months: 86\n",
      "Total: 38382578\n",
      "Average Change: -2315.12\n",
      "Greatest Increase in Profits: Feb-12 1926159\n",
      "Greatest Decrease in Profits: Sep-13 -2196167\n"
     ]
    }
   ],
   "source": [
    "import pandas as pd\n",
    "import numpy as np\n",
    "df = pd.read_csv(r'C:\\Users\\sergi\\OneDrive\\Escritorio\\Pythonhw\\Pybank\\Resources\\budget_data.csv')\n",
    "\n",
    "print(\"First few rows of the dataset:\")\n",
    "print(df.head())\n",
    "print(\"\\n\")\n",
    "\n",
    "#The total number of months included in the dataset\n",
    "total_months=len(df)\n",
    "#The net total amount of Profit/Losses over the entire period\n",
    "net_profit_losses = np.sum(df['Profit/Losses'])\n",
    "#The average of the changes in Profit/Losses over the entire period\n",
    "changes = np.diff(df['Profit/Losses'])\n",
    "average_changes = np.mean(changes)\n",
    "                  \n",
    "#The greatest increase in profits (date and amount) over the entire period\n",
    "#The greatest decrease in profits (date and amount) over the entire period\n",
    "#amount\n",
    "greatest_i = np.max(changes)\n",
    "greatest_d = np.min(changes)\n",
    "\n",
    "#date\n",
    "greatest_i_date = df.iloc[np.argmax(changes) +1]['Date']\n",
    "greatest_d_date = df.iloc[np.argmin(changes)+1]['Date']\n",
    "\n",
    "print('Financial Analysis')\n",
    "print('-------------------------------------')\n",
    "print(f'Total Months: {total_months}')\n",
    "print(f'Total: {net_profit_losses}')\n",
    "print(f'Average Change: {average_changes:.2f}')\n",
    "print(f'Greatest Increase in Profits: {greatest_i_date} {greatest_i}')\n",
    "print(f'Greatest Decrease in Profits: {greatest_d_date} {greatest_d}')\n",
    "s"
   ]
  },
  {
   "cell_type": "code",
   "execution_count": null,
   "id": "2b4577db-f657-4683-a8ed-ba4a56314099",
   "metadata": {},
   "outputs": [],
   "source": []
  },
  {
   "cell_type": "code",
   "execution_count": null,
   "id": "69c6eb25-33d7-4d2f-a1ba-bc8d4fb20af7",
   "metadata": {},
   "outputs": [],
   "source": []
  },
  {
   "cell_type": "code",
   "execution_count": null,
   "id": "ad4fc094-413c-449c-9233-91ac415a4df1",
   "metadata": {},
   "outputs": [],
   "source": []
  }
 ],
 "metadata": {
  "kernelspec": {
   "display_name": "Python 3 (ipykernel)",
   "language": "python",
   "name": "python3"
  },
  "language_info": {
   "codemirror_mode": {
    "name": "ipython",
    "version": 3
   },
   "file_extension": ".py",
   "mimetype": "text/x-python",
   "name": "python",
   "nbconvert_exporter": "python",
   "pygments_lexer": "ipython3",
   "version": "3.11.4"
  }
 },
 "nbformat": 4,
 "nbformat_minor": 5
}
